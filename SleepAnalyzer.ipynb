{
 "cells": [
  {
   "cell_type": "markdown",
   "id": "cc257dc4-a2dd-48a4-8ae4-fff914b44b79",
   "metadata": {},
   "source": [
    "# Sleep Cycle Analyzer\n",
    "#### This notebook has the purpose of helping users of Sleep Cycle to analyze their data in a more detailed an extensive way.\n",
    "All What you need is to export your csv data to the folder where this notebook is located"
   ]
  },
  {
   "cell_type": "markdown",
   "id": "9f2ded60-9bcf-4208-b2d7-126b4d1e5362",
   "metadata": {},
   "source": [
    "## 1. Imports\n",
    "Libraries needed for the analysis"
   ]
  },
  {
   "cell_type": "code",
   "execution_count": 2,
   "id": "c9e540dc-cc88-4cc3-afa8-07cac780bae8",
   "metadata": {},
   "outputs": [],
   "source": [
    "# Imports\n",
    "import pandas as pd\n",
    "import matplotlib.pyplot as plt\n",
    "import numpy as np\n",
    "import seaborn as sns"
   ]
  },
  {
   "cell_type": "markdown",
   "id": "cf466df2-cdfa-4ccc-b915-ed72cf0d23a1",
   "metadata": {},
   "source": [
    "## 2. Import data\n",
    "Take the data from the folder and create a DataFrame with it"
   ]
  },
  {
   "cell_type": "code",
   "execution_count": 3,
   "id": "2daffdda-55be-44b8-960a-e0aad0a68c4e",
   "metadata": {},
   "outputs": [
    {
     "data": {
      "text/html": [
       "<div>\n",
       "<style scoped>\n",
       "    .dataframe tbody tr th:only-of-type {\n",
       "        vertical-align: middle;\n",
       "    }\n",
       "\n",
       "    .dataframe tbody tr th {\n",
       "        vertical-align: top;\n",
       "    }\n",
       "\n",
       "    .dataframe thead th {\n",
       "        text-align: right;\n",
       "    }\n",
       "</style>\n",
       "<table border=\"1\" class=\"dataframe\">\n",
       "  <thead>\n",
       "    <tr style=\"text-align: right;\">\n",
       "      <th></th>\n",
       "      <th>Start</th>\n",
       "      <th>End</th>\n",
       "      <th>Sleep Quality</th>\n",
       "      <th>Regularity</th>\n",
       "      <th>Mood</th>\n",
       "      <th>Steps</th>\n",
       "      <th>Alarm mode</th>\n",
       "      <th>Air Pressure (Pa)</th>\n",
       "      <th>City</th>\n",
       "      <th>Movements per hour</th>\n",
       "      <th>Time in bed (seconds)</th>\n",
       "      <th>Window start</th>\n",
       "      <th>Window stop</th>\n",
       "      <th>Did snore</th>\n",
       "      <th>Snore time</th>\n",
       "      <th>Weather temperature (°F)</th>\n",
       "      <th>Weather type</th>\n",
       "      <th>Notes</th>\n",
       "    </tr>\n",
       "  </thead>\n",
       "  <tbody>\n",
       "    <tr>\n",
       "      <th>0</th>\n",
       "      <td>2019-12-24 00:35:05</td>\n",
       "      <td>2019-12-24 07:59:49</td>\n",
       "      <td>76%</td>\n",
       "      <td>—</td>\n",
       "      <td>NaN</td>\n",
       "      <td>0</td>\n",
       "      <td>No alarm</td>\n",
       "      <td>NaN</td>\n",
       "      <td>NaN</td>\n",
       "      <td>3.226314</td>\n",
       "      <td>26684.348</td>\n",
       "      <td>NaN</td>\n",
       "      <td>NaN</td>\n",
       "      <td>False</td>\n",
       "      <td>0</td>\n",
       "      <td>NaN</td>\n",
       "      <td>NaN</td>\n",
       "      <td>NaN</td>\n",
       "    </tr>\n",
       "    <tr>\n",
       "      <th>1</th>\n",
       "      <td>2019-12-25 02:31:57</td>\n",
       "      <td>2019-12-25 09:13:36</td>\n",
       "      <td>69%</td>\n",
       "      <td>73%</td>\n",
       "      <td>NaN</td>\n",
       "      <td>0</td>\n",
       "      <td>No alarm</td>\n",
       "      <td>NaN</td>\n",
       "      <td>NaN</td>\n",
       "      <td>5.965321</td>\n",
       "      <td>24099.076</td>\n",
       "      <td>NaN</td>\n",
       "      <td>NaN</td>\n",
       "      <td>True</td>\n",
       "      <td>60</td>\n",
       "      <td>NaN</td>\n",
       "      <td>NaN</td>\n",
       "      <td>NaN</td>\n",
       "    </tr>\n",
       "    <tr>\n",
       "      <th>2</th>\n",
       "      <td>2019-12-25 23:28:24</td>\n",
       "      <td>2019-12-26 06:44:28</td>\n",
       "      <td>65%</td>\n",
       "      <td>73%</td>\n",
       "      <td>NaN</td>\n",
       "      <td>0</td>\n",
       "      <td>No alarm</td>\n",
       "      <td>NaN</td>\n",
       "      <td>NaN</td>\n",
       "      <td>3.436258</td>\n",
       "      <td>26164.446</td>\n",
       "      <td>NaN</td>\n",
       "      <td>NaN</td>\n",
       "      <td>True</td>\n",
       "      <td>798</td>\n",
       "      <td>NaN</td>\n",
       "      <td>NaN</td>\n",
       "      <td>NaN</td>\n",
       "    </tr>\n",
       "    <tr>\n",
       "      <th>3</th>\n",
       "      <td>2019-12-27 00:47:44</td>\n",
       "      <td>2019-12-27 08:21:14</td>\n",
       "      <td>77%</td>\n",
       "      <td>63%</td>\n",
       "      <td>NaN</td>\n",
       "      <td>0</td>\n",
       "      <td>No alarm</td>\n",
       "      <td>NaN</td>\n",
       "      <td>NaN</td>\n",
       "      <td>3.138720</td>\n",
       "      <td>27209.527</td>\n",
       "      <td>NaN</td>\n",
       "      <td>NaN</td>\n",
       "      <td>False</td>\n",
       "      <td>0</td>\n",
       "      <td>NaN</td>\n",
       "      <td>NaN</td>\n",
       "      <td>NaN</td>\n",
       "    </tr>\n",
       "    <tr>\n",
       "      <th>4</th>\n",
       "      <td>2019-12-28 00:50:17</td>\n",
       "      <td>2019-12-28 08:23:37</td>\n",
       "      <td>79%</td>\n",
       "      <td>64%</td>\n",
       "      <td>NaN</td>\n",
       "      <td>0</td>\n",
       "      <td>No alarm</td>\n",
       "      <td>NaN</td>\n",
       "      <td>NaN</td>\n",
       "      <td>2.814860</td>\n",
       "      <td>27199.311</td>\n",
       "      <td>NaN</td>\n",
       "      <td>NaN</td>\n",
       "      <td>True</td>\n",
       "      <td>62</td>\n",
       "      <td>NaN</td>\n",
       "      <td>NaN</td>\n",
       "      <td>NaN</td>\n",
       "    </tr>\n",
       "  </tbody>\n",
       "</table>\n",
       "</div>"
      ],
      "text/plain": [
       "                Start                 End Sleep Quality Regularity Mood  \\\n",
       "0 2019-12-24 00:35:05 2019-12-24 07:59:49           76%          —  NaN   \n",
       "1 2019-12-25 02:31:57 2019-12-25 09:13:36           69%        73%  NaN   \n",
       "2 2019-12-25 23:28:24 2019-12-26 06:44:28           65%        73%  NaN   \n",
       "3 2019-12-27 00:47:44 2019-12-27 08:21:14           77%        63%  NaN   \n",
       "4 2019-12-28 00:50:17 2019-12-28 08:23:37           79%        64%  NaN   \n",
       "\n",
       "   Steps Alarm mode  Air Pressure (Pa) City  Movements per hour  \\\n",
       "0      0   No alarm                NaN  NaN            3.226314   \n",
       "1      0   No alarm                NaN  NaN            5.965321   \n",
       "2      0   No alarm                NaN  NaN            3.436258   \n",
       "3      0   No alarm                NaN  NaN            3.138720   \n",
       "4      0   No alarm                NaN  NaN            2.814860   \n",
       "\n",
       "   Time in bed (seconds) Window start Window stop  Did snore  Snore time  \\\n",
       "0              26684.348          NaN         NaN      False           0   \n",
       "1              24099.076          NaN         NaN       True          60   \n",
       "2              26164.446          NaN         NaN       True         798   \n",
       "3              27209.527          NaN         NaN      False           0   \n",
       "4              27199.311          NaN         NaN       True          62   \n",
       "\n",
       "   Weather temperature (°F) Weather type Notes  \n",
       "0                       NaN          NaN   NaN  \n",
       "1                       NaN          NaN   NaN  \n",
       "2                       NaN          NaN   NaN  \n",
       "3                       NaN          NaN   NaN  \n",
       "4                       NaN          NaN   NaN  "
      ]
     },
     "execution_count": 3,
     "metadata": {},
     "output_type": "execute_result"
    }
   ],
   "source": [
    "# Name of the file\n",
    "# You can change this name for your analysis\n",
    "fileName = 'sleepdata.csv'\n",
    "\n",
    "#Transform it to data frame, use as separator ; instead of ,\n",
    "sleepData = pd.read_csv(fileName, sep = ';', parse_dates = ['Start', 'End'])\n",
    "\n",
    "#Test\n",
    "sleepData.head(5)"
   ]
  },
  {
   "cell_type": "markdown",
   "id": "26848fcc-cce0-463f-b7d9-42cde23f9eac",
   "metadata": {},
   "source": [
    "## 3. Data Previsualization and Corrections\n",
    "We need to check how correct is the information collected and if there are empty values in our columns or rows\n",
    "\n",
    "### 3.1 Simple elements and types"
   ]
  },
  {
   "cell_type": "code",
   "execution_count": 4,
   "id": "e1c3b73a-35f8-453d-aa3e-b51bc941303e",
   "metadata": {},
   "outputs": [
    {
     "data": {
      "text/plain": [
       "Start                       datetime64[ns]\n",
       "End                         datetime64[ns]\n",
       "Sleep Quality                       object\n",
       "Regularity                          object\n",
       "Mood                                object\n",
       "Steps                                int64\n",
       "Alarm mode                          object\n",
       "Air Pressure (Pa)                  float64\n",
       "City                                object\n",
       "Movements per hour                 float64\n",
       "Time in bed (seconds)              float64\n",
       "Window start                        object\n",
       "Window stop                         object\n",
       "Did snore                             bool\n",
       "Snore time                           int64\n",
       "Weather temperature (°F)           float64\n",
       "Weather type                        object\n",
       "Notes                               object\n",
       "dtype: object"
      ]
     },
     "execution_count": 4,
     "metadata": {},
     "output_type": "execute_result"
    }
   ],
   "source": [
    "# Check data types\n",
    "sleepData.dtypes"
   ]
  },
  {
   "cell_type": "markdown",
   "id": "247111ee-1abd-45aa-888d-ad62349bb7a8",
   "metadata": {},
   "source": [
    "Now, we can see some problems with the data. There are many object values, probably wrong formated. \n"
   ]
  },
  {
   "cell_type": "code",
   "execution_count": 5,
   "id": "85c4a00f-2670-4ec7-87f3-f24847e7b618",
   "metadata": {},
   "outputs": [
    {
     "data": {
      "text/html": [
       "<div>\n",
       "<style scoped>\n",
       "    .dataframe tbody tr th:only-of-type {\n",
       "        vertical-align: middle;\n",
       "    }\n",
       "\n",
       "    .dataframe tbody tr th {\n",
       "        vertical-align: top;\n",
       "    }\n",
       "\n",
       "    .dataframe thead th {\n",
       "        text-align: right;\n",
       "    }\n",
       "</style>\n",
       "<table border=\"1\" class=\"dataframe\">\n",
       "  <thead>\n",
       "    <tr style=\"text-align: right;\">\n",
       "      <th></th>\n",
       "      <th>Steps</th>\n",
       "      <th>Air Pressure (Pa)</th>\n",
       "      <th>Movements per hour</th>\n",
       "      <th>Time in bed (seconds)</th>\n",
       "      <th>Snore time</th>\n",
       "      <th>Weather temperature (°F)</th>\n",
       "    </tr>\n",
       "  </thead>\n",
       "  <tbody>\n",
       "    <tr>\n",
       "      <th>count</th>\n",
       "      <td>793.000000</td>\n",
       "      <td>73.000000</td>\n",
       "      <td>793.000000</td>\n",
       "      <td>793.000000</td>\n",
       "      <td>793.000000</td>\n",
       "      <td>80.000000</td>\n",
       "    </tr>\n",
       "    <tr>\n",
       "      <th>mean</th>\n",
       "      <td>301.754098</td>\n",
       "      <td>101.794384</td>\n",
       "      <td>10.276952</td>\n",
       "      <td>26856.791707</td>\n",
       "      <td>19.788146</td>\n",
       "      <td>53.212500</td>\n",
       "    </tr>\n",
       "    <tr>\n",
       "      <th>std</th>\n",
       "      <td>1455.203667</td>\n",
       "      <td>0.171148</td>\n",
       "      <td>18.430446</td>\n",
       "      <td>4490.040868</td>\n",
       "      <td>154.638257</td>\n",
       "      <td>10.259536</td>\n",
       "    </tr>\n",
       "    <tr>\n",
       "      <th>min</th>\n",
       "      <td>0.000000</td>\n",
       "      <td>101.330000</td>\n",
       "      <td>0.000000</td>\n",
       "      <td>953.341000</td>\n",
       "      <td>0.000000</td>\n",
       "      <td>42.000000</td>\n",
       "    </tr>\n",
       "    <tr>\n",
       "      <th>25%</th>\n",
       "      <td>0.000000</td>\n",
       "      <td>101.680000</td>\n",
       "      <td>1.097098</td>\n",
       "      <td>26342.517000</td>\n",
       "      <td>0.000000</td>\n",
       "      <td>47.000000</td>\n",
       "    </tr>\n",
       "    <tr>\n",
       "      <th>50%</th>\n",
       "      <td>0.000000</td>\n",
       "      <td>101.820000</td>\n",
       "      <td>2.104588</td>\n",
       "      <td>27389.572000</td>\n",
       "      <td>0.000000</td>\n",
       "      <td>49.000000</td>\n",
       "    </tr>\n",
       "    <tr>\n",
       "      <th>75%</th>\n",
       "      <td>0.000000</td>\n",
       "      <td>101.900000</td>\n",
       "      <td>5.107510</td>\n",
       "      <td>28074.868000</td>\n",
       "      <td>0.000000</td>\n",
       "      <td>53.000000</td>\n",
       "    </tr>\n",
       "    <tr>\n",
       "      <th>max</th>\n",
       "      <td>11900.000000</td>\n",
       "      <td>102.080000</td>\n",
       "      <td>114.478020</td>\n",
       "      <td>94592.855000</td>\n",
       "      <td>2585.000000</td>\n",
       "      <td>77.000000</td>\n",
       "    </tr>\n",
       "  </tbody>\n",
       "</table>\n",
       "</div>"
      ],
      "text/plain": [
       "              Steps  Air Pressure (Pa)  Movements per hour  \\\n",
       "count    793.000000          73.000000          793.000000   \n",
       "mean     301.754098         101.794384           10.276952   \n",
       "std     1455.203667           0.171148           18.430446   \n",
       "min        0.000000         101.330000            0.000000   \n",
       "25%        0.000000         101.680000            1.097098   \n",
       "50%        0.000000         101.820000            2.104588   \n",
       "75%        0.000000         101.900000            5.107510   \n",
       "max    11900.000000         102.080000          114.478020   \n",
       "\n",
       "       Time in bed (seconds)   Snore time  Weather temperature (°F)  \n",
       "count             793.000000   793.000000                 80.000000  \n",
       "mean            26856.791707    19.788146                 53.212500  \n",
       "std              4490.040868   154.638257                 10.259536  \n",
       "min               953.341000     0.000000                 42.000000  \n",
       "25%             26342.517000     0.000000                 47.000000  \n",
       "50%             27389.572000     0.000000                 49.000000  \n",
       "75%             28074.868000     0.000000                 53.000000  \n",
       "max             94592.855000  2585.000000                 77.000000  "
      ]
     },
     "execution_count": 5,
     "metadata": {},
     "output_type": "execute_result"
    }
   ],
   "source": [
    "# Describe the dataframe\n",
    "sleepData.describe()"
   ]
  },
  {
   "cell_type": "code",
   "execution_count": 6,
   "id": "57207c85-24fd-41b0-810c-bf427ebb448c",
   "metadata": {},
   "outputs": [
    {
     "name": "stdout",
     "output_type": "stream",
     "text": [
      "<class 'pandas.core.frame.DataFrame'>\n",
      "RangeIndex: 793 entries, 0 to 792\n",
      "Data columns (total 18 columns):\n",
      " #   Column                    Non-Null Count  Dtype         \n",
      "---  ------                    --------------  -----         \n",
      " 0   Start                     793 non-null    datetime64[ns]\n",
      " 1   End                       793 non-null    datetime64[ns]\n",
      " 2   Sleep Quality             793 non-null    object        \n",
      " 3   Regularity                793 non-null    object        \n",
      " 4   Mood                      90 non-null     object        \n",
      " 5   Steps                     793 non-null    int64         \n",
      " 6   Alarm mode                793 non-null    object        \n",
      " 7   Air Pressure (Pa)         73 non-null     float64       \n",
      " 8   City                      67 non-null     object        \n",
      " 9   Movements per hour        793 non-null    float64       \n",
      " 10  Time in bed (seconds)     793 non-null    float64       \n",
      " 11  Window start              217 non-null    object        \n",
      " 12  Window stop               217 non-null    object        \n",
      " 13  Did snore                 793 non-null    bool          \n",
      " 14  Snore time                793 non-null    int64         \n",
      " 15  Weather temperature (°F)  80 non-null     float64       \n",
      " 16  Weather type              73 non-null     object        \n",
      " 17  Notes                     43 non-null     object        \n",
      "dtypes: bool(1), datetime64[ns](2), float64(4), int64(2), object(9)\n",
      "memory usage: 106.2+ KB\n"
     ]
    }
   ],
   "source": [
    "# Dataframe information\n",
    "sleepData.info()"
   ]
  },
  {
   "cell_type": "markdown",
   "id": "b831f4da-90f7-4618-ae21-d588cd4e2382",
   "metadata": {},
   "source": [
    "Here we can see another problem, we have 793 rows, but many columns barely have a 100 non null values\n",
    "\n",
    "### 3.1.2 Correcting type problems\n",
    "#### 1. Regularity should be a Number"
   ]
  },
  {
   "cell_type": "code",
   "execution_count": 7,
   "id": "4c9b87d7-69a0-460b-bbc7-67ae131809a2",
   "metadata": {},
   "outputs": [
    {
     "data": {
      "image/png": "[encoded data removed]",
      "text/plain": [
       "<Figure size 2880x720 with 1 Axes>"
      ]
     },
     "metadata": {
      "needs_background": "light"
     },
     "output_type": "display_data"
    }
   ],
   "source": [
    "# See the regularity values\n",
    "plt.figure(figsize=(40, 10))\n",
    "plt.hist(sleepData['Regularity'], bins = 5)\n",
    "plt.show()"
   ]
  },
  {
   "cell_type": "markdown",
   "id": "fbcccb73-3e26-4686-9656-0289d67dacb3",
   "metadata": {},
   "source": [
    "Inmediatly we can see the problem, the x axis values are not even in order, we need to fix it by changing our column to float.\n",
    "I was trying to simple remove % and the tranform to float, but it seems there are some values that are '—', so, we are going to fix them first. I also found a problem where the regularity had a date value for some reason, so I will remove it too."
   ]
  },
  {
   "cell_type": "code",
   "execution_count": 8,
   "id": "c233ecd7-7fb6-47f6-ae02-77cc4eb0deb1",
   "metadata": {},
   "outputs": [
    {
     "name": "stdout",
     "output_type": "stream",
     "text": [
      "                Start                 End Sleep Quality Regularity Mood  \\\n",
      "1 2019-12-25 02:31:57 2019-12-25 09:13:36           69%        73%  NaN   \n",
      "2 2019-12-25 23:28:24 2019-12-26 06:44:28           65%        73%  NaN   \n",
      "3 2019-12-27 00:47:44 2019-12-27 08:21:14           77%        63%  NaN   \n",
      "4 2019-12-28 00:50:17 2019-12-28 08:23:37           79%        64%  NaN   \n",
      "5 2019-12-29 00:59:12 2019-12-29 08:31:42           83%        87%  NaN   \n",
      "\n",
      "   Steps Alarm mode  Air Pressure (Pa) City  Movements per hour  \\\n",
      "1      0   No alarm                NaN  NaN            5.965321   \n",
      "2      0   No alarm                NaN  NaN            3.436258   \n",
      "3      0   No alarm                NaN  NaN            3.138720   \n",
      "4      0   No alarm                NaN  NaN            2.814860   \n",
      "5      0   No alarm                NaN  NaN            2.104588   \n",
      "\n",
      "   Time in bed (seconds) Window start Window stop  Did snore  Snore time  \\\n",
      "1              24099.076          NaN         NaN       True          60   \n",
      "2              26164.446          NaN         NaN       True         798   \n",
      "3              27209.527          NaN         NaN      False           0   \n",
      "4              27199.311          NaN         NaN       True          62   \n",
      "5              27149.622          NaN         NaN      False           0   \n",
      "\n",
      "   Weather temperature (°F) Weather type Notes  \n",
      "1                       NaN          NaN   NaN  \n",
      "2                       NaN          NaN   NaN  \n",
      "3                       NaN          NaN   NaN  \n",
      "4                       NaN          NaN   NaN  \n",
      "5                       NaN          NaN   NaN  \n"
     ]
    }
   ],
   "source": [
    "# Remove the columns that are equal to '—' or 'NaT'\n",
    "sleepData = sleepData[sleepData['Regularity'] != '—']\n",
    "sleepData= sleepData[sleepData['Regularity'] != 'NaT']\n",
    "print(sleepData.head(5))"
   ]
  },
  {
   "cell_type": "code",
   "execution_count": 9,
   "id": "cf961c74-081f-4db6-9ff0-699d544e4b65",
   "metadata": {},
   "outputs": [],
   "source": [
    "# Remove de % symbol frome every number\n",
    "sleepData['Regularity'] = sleepData['Regularity'].astype('str')\n",
    "sleepData['Regularity'] = sleepData['Regularity'].str.strip('%')\n",
    "sleepData['Regularity'] = sleepData['Regularity'].astype('float')"
   ]
  },
  {
   "cell_type": "code",
   "execution_count": 10,
   "id": "1ce40353-e5ef-4b37-9700-ef6913a274eb",
   "metadata": {},
   "outputs": [
    {
     "data": {
      "image/png": "[encoded data removed]",
      "text/plain": [
       "<Figure size 1080x576 with 1 Axes>"
      ]
     },
     "metadata": {
      "needs_background": "light"
     },
     "output_type": "display_data"
    }
   ],
   "source": [
    "# See the regularity values\n",
    "plt.figure(figsize=(15, 8))\n",
    "plt.hist(sleepData['Regularity'], bins = 5)\n",
    "plt.xlabel('Sleep Regularity (%)')\n",
    "plt.ylabel('Number of times repeated')\n",
    "plt.show()"
   ]
  },
  {
   "cell_type": "markdown",
   "id": "4f5bf8fe-e0ba-4b24-808e-83eb25e26821",
   "metadata": {},
   "source": [
    "#### 2. Sleep Quality  should be a Number"
   ]
  },
  {
   "cell_type": "code",
   "execution_count": 11,
   "id": "f2386693-2f94-4293-b032-c4b8c06680fe",
   "metadata": {},
   "outputs": [
    {
     "name": "stdout",
     "output_type": "stream",
     "text": [
      "                Start                 End Sleep Quality  Regularity Mood  \\\n",
      "1 2019-12-25 02:31:57 2019-12-25 09:13:36           69%        73.0  NaN   \n",
      "2 2019-12-25 23:28:24 2019-12-26 06:44:28           65%        73.0  NaN   \n",
      "3 2019-12-27 00:47:44 2019-12-27 08:21:14           77%        63.0  NaN   \n",
      "4 2019-12-28 00:50:17 2019-12-28 08:23:37           79%        64.0  NaN   \n",
      "5 2019-12-29 00:59:12 2019-12-29 08:31:42           83%        87.0  NaN   \n",
      "\n",
      "   Steps Alarm mode  Air Pressure (Pa) City  Movements per hour  \\\n",
      "1      0   No alarm                NaN  NaN            5.965321   \n",
      "2      0   No alarm                NaN  NaN            3.436258   \n",
      "3      0   No alarm                NaN  NaN            3.138720   \n",
      "4      0   No alarm                NaN  NaN            2.814860   \n",
      "5      0   No alarm                NaN  NaN            2.104588   \n",
      "\n",
      "   Time in bed (seconds) Window start Window stop  Did snore  Snore time  \\\n",
      "1              24099.076          NaN         NaN       True          60   \n",
      "2              26164.446          NaN         NaN       True         798   \n",
      "3              27209.527          NaN         NaN      False           0   \n",
      "4              27199.311          NaN         NaN       True          62   \n",
      "5              27149.622          NaN         NaN      False           0   \n",
      "\n",
      "   Weather temperature (°F) Weather type Notes  \n",
      "1                       NaN          NaN   NaN  \n",
      "2                       NaN          NaN   NaN  \n",
      "3                       NaN          NaN   NaN  \n",
      "4                       NaN          NaN   NaN  \n",
      "5                       NaN          NaN   NaN  \n"
     ]
    }
   ],
   "source": [
    "# Remove the columns that are equal to '—' or 'NaT'\n",
    "sleepData = sleepData[sleepData['Sleep Quality'] != '—']\n",
    "sleepData= sleepData[sleepData['Sleep Quality'] != 'NaT']\n",
    "print(sleepData.head(5))"
   ]
  },
  {
   "cell_type": "code",
   "execution_count": 12,
   "id": "00ab86a5-bcb4-4772-a625-75e4b3da48e4",
   "metadata": {},
   "outputs": [],
   "source": [
    "# Remove de % symbol frome every number\n",
    "sleepData['Sleep Quality'] = sleepData['Sleep Quality'].astype('str')\n",
    "sleepData['Sleep Quality'] = sleepData['Sleep Quality'].str.strip('%')\n",
    "sleepData['Sleep Quality'] = sleepData['Sleep Quality'].astype('float')"
   ]
  },
  {
   "cell_type": "code",
   "execution_count": 13,
   "id": "caddde75-d777-4856-b0cf-0cd517bf2aa6",
   "metadata": {},
   "outputs": [
    {
     "data": {
      "image/png": "[encoded data removed]",
      "text/plain": [
       "<Figure size 1080x576 with 1 Axes>"
      ]
     },
     "metadata": {
      "needs_background": "light"
     },
     "output_type": "display_data"
    }
   ],
   "source": [
    "# See the sleep quality values\n",
    "plt.figure(figsize=(15, 8))\n",
    "plt.hist(sleepData['Sleep Quality'], bins = 5)\n",
    "plt.xlabel('Sleep Quality (%)')\n",
    "plt.ylabel('Number of times repeated')\n",
    "plt.show()"
   ]
  },
  {
   "cell_type": "markdown",
   "id": "81ba07ea-cca8-4b6e-ac12-d0f96f0ae52b",
   "metadata": {},
   "source": [
    "#### 3. Add time in bed in hours"
   ]
  },
  {
   "cell_type": "code",
   "execution_count": 14,
   "id": "973611c8-cd67-40fe-ac95-35265bc8eed9",
   "metadata": {},
   "outputs": [
    {
     "name": "stdout",
     "output_type": "stream",
     "text": [
      "                Start                 End  Sleep Quality  Regularity Mood  \\\n",
      "1 2019-12-25 02:31:57 2019-12-25 09:13:36           69.0        73.0  NaN   \n",
      "2 2019-12-25 23:28:24 2019-12-26 06:44:28           65.0        73.0  NaN   \n",
      "3 2019-12-27 00:47:44 2019-12-27 08:21:14           77.0        63.0  NaN   \n",
      "4 2019-12-28 00:50:17 2019-12-28 08:23:37           79.0        64.0  NaN   \n",
      "5 2019-12-29 00:59:12 2019-12-29 08:31:42           83.0        87.0  NaN   \n",
      "\n",
      "   Steps Alarm mode  Air Pressure (Pa) City  Movements per hour  \\\n",
      "1      0   No alarm                NaN  NaN            5.965321   \n",
      "2      0   No alarm                NaN  NaN            3.436258   \n",
      "3      0   No alarm                NaN  NaN            3.138720   \n",
      "4      0   No alarm                NaN  NaN            2.814860   \n",
      "5      0   No alarm                NaN  NaN            2.104588   \n",
      "\n",
      "   Time in bed (seconds) Window start Window stop  Did snore  Snore time  \\\n",
      "1              24099.076          NaN         NaN       True          60   \n",
      "2              26164.446          NaN         NaN       True         798   \n",
      "3              27209.527          NaN         NaN      False           0   \n",
      "4              27199.311          NaN         NaN       True          62   \n",
      "5              27149.622          NaN         NaN      False           0   \n",
      "\n",
      "   Weather temperature (°F) Weather type Notes  Time in Bed Hours  \n",
      "1                       NaN          NaN   NaN           6.694188  \n",
      "2                       NaN          NaN   NaN           7.267902  \n",
      "3                       NaN          NaN   NaN           7.558202  \n",
      "4                       NaN          NaN   NaN           7.555364  \n",
      "5                       NaN          NaN   NaN           7.541562  \n"
     ]
    }
   ],
   "source": [
    "# Create new column for time in bed in hours\n",
    "sleepData['Time in Bed Hours'] = sleepData['Time in bed (seconds)'] / 3600\n",
    "print(sleepData.head(5))"
   ]
  },
  {
   "cell_type": "code",
   "execution_count": 15,
   "id": "1180a123-4191-458f-a0a4-3079150fbfe6",
   "metadata": {},
   "outputs": [
    {
     "data": {
      "image/png": "[encoded data removed]",
      "text/plain": [
       "<Figure size 720x432 with 1 Axes>"
      ]
     },
     "metadata": {
      "needs_background": "light"
     },
     "output_type": "display_data"
    }
   ],
   "source": [
    "plt.figure(figsize=(10, 6))\n",
    "plt.hist(sleepData['Time in Bed Hours'], bins = 10)\n",
    "plt.show()"
   ]
  },
  {
   "cell_type": "markdown",
   "id": "769c9893-6dae-4521-b572-5ed2c506a508",
   "metadata": {},
   "source": [
    "We can see some out of range elements that we will fix in the next section\n",
    "\n",
    "#### 4. Column only for the hours and minutes of the start and end cols"
   ]
  },
  {
   "cell_type": "code",
   "execution_count": 16,
   "id": "3b2a54af-e611-4e4b-9e08-f85cccead44d",
   "metadata": {},
   "outputs": [
    {
     "name": "stdout",
     "output_type": "stream",
     "text": [
      "                Start                 End  Sleep Quality  Regularity Mood  \\\n",
      "1 2019-12-25 02:31:57 2019-12-25 09:13:36           69.0        73.0  NaN   \n",
      "2 2019-12-25 23:28:24 2019-12-26 06:44:28           65.0        73.0  NaN   \n",
      "3 2019-12-27 00:47:44 2019-12-27 08:21:14           77.0        63.0  NaN   \n",
      "4 2019-12-28 00:50:17 2019-12-28 08:23:37           79.0        64.0  NaN   \n",
      "5 2019-12-29 00:59:12 2019-12-29 08:31:42           83.0        87.0  NaN   \n",
      "\n",
      "   Steps Alarm mode  Air Pressure (Pa) City  Movements per hour  ...  \\\n",
      "1      0   No alarm                NaN  NaN            5.965321  ...   \n",
      "2      0   No alarm                NaN  NaN            3.436258  ...   \n",
      "3      0   No alarm                NaN  NaN            3.138720  ...   \n",
      "4      0   No alarm                NaN  NaN            2.814860  ...   \n",
      "5      0   No alarm                NaN  NaN            2.104588  ...   \n",
      "\n",
      "   Window start Window stop Did snore  Snore time  Weather temperature (°F)  \\\n",
      "1           NaN         NaN      True          60                       NaN   \n",
      "2           NaN         NaN      True         798                       NaN   \n",
      "3           NaN         NaN     False           0                       NaN   \n",
      "4           NaN         NaN      True          62                       NaN   \n",
      "5           NaN         NaN     False           0                       NaN   \n",
      "\n",
      "   Weather type Notes Time in Bed Hours  Start Hour End Hour  \n",
      "1           NaN   NaN          6.694188       02:31    09:13  \n",
      "2           NaN   NaN          7.267902       23:28    06:44  \n",
      "3           NaN   NaN          7.558202       00:47    08:21  \n",
      "4           NaN   NaN          7.555364       00:50    08:23  \n",
      "5           NaN   NaN          7.541562       00:59    08:31  \n",
      "\n",
      "[5 rows x 21 columns]\n"
     ]
    }
   ],
   "source": [
    "# New cols for start and end hours and minutes only\n",
    "sleepData['Start Hour'] = sleepData['Start'].dt.strftime('%H:%M')\n",
    "sleepData['End Hour'] = sleepData['End'].dt.strftime('%H:%M')\n",
    "print(sleepData.head(5))"
   ]
  },
  {
   "cell_type": "markdown",
   "id": "0bb3e9b1-4f2d-4568-8e14-f21914bf4afd",
   "metadata": {},
   "source": [
    "##### 5. Fix locations\n",
    "Currently, there is a small amount of locations saved "
   ]
  },
  {
   "cell_type": "markdown",
   "id": "55747809-7c92-4495-b960-4d4a5b034769",
   "metadata": {},
   "source": [
    "### 3.2 Range constraints\n",
    "Some situations can cause the app to record too long or too short sessions. We want to check with a histogram if this is the case and correct it"
   ]
  }
 ],
 "metadata": {
  "kernelspec": {
   "display_name": "base",
   "language": "python",
   "name": "python3"
  },
  "language_info": {
   "codemirror_mode": {
    "name": "ipython",
    "version": 3
   },
   "file_extension": ".py",
   "mimetype": "text/x-python",
   "name": "python",
   "nbconvert_exporter": "python",
   "pygments_lexer": "ipython3",
   "version": "3.9.7"
  },
  "vscode": {
   "interpreter": {
    "hash": "bfec58af38d6116ae4fd5a64aaf696ab761f84663d193d2072a0c66e0a82a3b1"
   }
  }
 },
 "nbformat": 4,
 "nbformat_minor": 5
}
